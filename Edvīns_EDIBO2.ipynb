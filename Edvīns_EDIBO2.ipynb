{
  "nbformat": 4,
  "nbformat_minor": 0,
  "metadata": {
    "colab": {
      "name": "Edvīns.EDIBO2.ipynb",
      "provenance": [],
      "authorship_tag": "ABX9TyOz5+1muhoCoSiTJfry63ck",
      "include_colab_link": true
    },
    "kernelspec": {
      "name": "python3",
      "display_name": "Python 3"
    },
    "language_info": {
      "name": "python"
    }
  },
  "cells": [
    {
      "cell_type": "markdown",
      "metadata": {
        "id": "view-in-github",
        "colab_type": "text"
      },
      "source": [
        "<a href=\"https://colab.research.google.com/github/EdvinsVormsbehers/EDIBO_2/blob/main/Edv%C4%ABns_EDIBO2.ipynb\" target=\"_parent\"><img src=\"https://colab.research.google.com/assets/colab-badge.svg\" alt=\"Open In Colab\"/></a>"
      ]
    },
    {
      "cell_type": "markdown",
      "metadata": {
        "id": "AHDCKxqQnBR6"
      },
      "source": [
        "EDIBO Lesson 2 HackerRank - Python Introduction\n"
      ]
    },
    {
      "cell_type": "code",
      "metadata": {
        "colab": {
          "base_uri": "https://localhost:8080/"
        },
        "id": "BkmfBty8dtf2",
        "outputId": "91b2181c-00a0-4e73-edb6-698caf34a2b7"
      },
      "source": [
        "#Python If-Else v1\n",
        "\n",
        "n = int(input())\n",
        "if (n % 2) == 0:\n",
        "  print(\"Not Weird\")\n",
        "else:\n",
        "  print(\"Weird\")"
      ],
      "execution_count": null,
      "outputs": [
        {
          "output_type": "stream",
          "text": [
            "20\n",
            "Not Weird\n"
          ],
          "name": "stdout"
        }
      ]
    },
    {
      "cell_type": "code",
      "metadata": {
        "colab": {
          "base_uri": "https://localhost:8080/"
        },
        "id": "g9jN5gi3xUzB",
        "outputId": "b5a257cd-c69b-4807-8f4e-c4c2c64ca7d9"
      },
      "source": [
        "#Python If-Else v2\n",
        "\n",
        "n = int(input())\n",
        "if (n % 2) == 0:\n",
        "  if (n >= 2 and n <= 5):\n",
        "    print('Not Weird')\n",
        "  if (n >= 6 and n <= 20):\n",
        "    print('Weird')\n",
        "  if (n > 20):\n",
        "    print('Not Weird')\n",
        "else:\n",
        "  print('Weird')"
      ],
      "execution_count": null,
      "outputs": [
        {
          "output_type": "stream",
          "text": [
            "21\n",
            "Weird\n"
          ],
          "name": "stdout"
        }
      ]
    },
    {
      "cell_type": "code",
      "metadata": {
        "colab": {
          "base_uri": "https://localhost:8080/"
        },
        "id": "dcdlrDaXh1bh",
        "outputId": "36ba6702-4b3d-4e57-9395-0db5273046b6"
      },
      "source": [
        "#Arithmetic Operators v1\n",
        "\n",
        "if __name__ == '__main__':\n",
        "    a = int(input())\n",
        "    b = int(input())\n",
        "    print(a + b)\n",
        "    print(a - b)\n",
        "    print(a * b)"
      ],
      "execution_count": null,
      "outputs": [
        {
          "output_type": "stream",
          "text": [
            "3\n",
            "5\n",
            "8\n",
            "-2\n",
            "15\n"
          ],
          "name": "stdout"
        }
      ]
    },
    {
      "cell_type": "code",
      "metadata": {
        "id": "S-95l94jXLwn"
      },
      "source": [
        "#Arithmetic Operators v2\n",
        "\n",
        "if __name__ == '__main__':\n",
        "    a = int(input())\n",
        "    b = int(input())\n",
        "    if a >= 1 and a <= 10**10 and b >= 1 and b <= 10**10:\n",
        "      print(a + b)\n",
        "      print(a - b)\n",
        "      print(a * b)\n",
        "    else:\n",
        "      print (\" \")"
      ],
      "execution_count": null,
      "outputs": []
    },
    {
      "cell_type": "code",
      "metadata": {
        "colab": {
          "base_uri": "https://localhost:8080/"
        },
        "id": "7NVxQjF2mp0v",
        "outputId": "cb209f29-e122-43a8-fa23-2e8bff69996a"
      },
      "source": [
        "#Python: Division\n",
        "\n",
        "if __name__ == '__main__':\n",
        "    a = int(input())\n",
        "    b = int(input())\n",
        "    print(a//b)\n",
        "    print(a/b)"
      ],
      "execution_count": null,
      "outputs": [
        {
          "output_type": "stream",
          "text": [
            "10\n",
            "3\n",
            "3\n",
            "3.3333333333333335\n"
          ],
          "name": "stdout"
        }
      ]
    },
    {
      "cell_type": "code",
      "metadata": {
        "colab": {
          "base_uri": "https://localhost:8080/"
        },
        "id": "qRPF385aodrO",
        "outputId": "efc67720-15a8-4890-a0d9-92a4c47b3e70"
      },
      "source": [
        "#Loops v1\n",
        "\n",
        "n = int(input())\n",
        "i = 0\n",
        "while i < n:\n",
        "  print (i**2)\n",
        "  i += 1"
      ],
      "execution_count": null,
      "outputs": [
        {
          "output_type": "stream",
          "text": [
            "5\n",
            "0\n",
            "1\n",
            "4\n",
            "9\n",
            "16\n"
          ],
          "name": "stdout"
        }
      ]
    },
    {
      "cell_type": "code",
      "metadata": {
        "colab": {
          "base_uri": "https://localhost:8080/"
        },
        "id": "ebPo-qvApPyN",
        "outputId": "463ea58c-a954-4050-f541-d0e034678e1f"
      },
      "source": [
        "#Loops v2\n",
        "\n",
        "n = int(input())\n",
        "i = 0\n",
        "for i in range(n):\n",
        "  print (i**2)\n",
        "  i = i + 1"
      ],
      "execution_count": null,
      "outputs": [
        {
          "output_type": "stream",
          "text": [
            "4\n",
            "0\n",
            "1\n",
            "4\n",
            "9\n"
          ],
          "name": "stdout"
        }
      ]
    },
    {
      "cell_type": "code",
      "metadata": {
        "colab": {
          "base_uri": "https://localhost:8080/"
        },
        "id": "XeVPckYTp9oW",
        "outputId": "8dec2f3f-053d-4401-f324-4c2c7b83aa94"
      },
      "source": [
        "#Loops v3\n",
        "\n",
        "n = int(input())\n",
        "i = 0\n",
        "print(*[i**2 for i in range(n)], sep='\\n')"
      ],
      "execution_count": null,
      "outputs": [
        {
          "output_type": "stream",
          "text": [
            "6\n",
            "0\n",
            "1\n",
            "4\n",
            "9\n",
            "16\n",
            "25\n"
          ],
          "name": "stdout"
        }
      ]
    },
    {
      "cell_type": "code",
      "metadata": {
        "colab": {
          "base_uri": "https://localhost:8080/"
        },
        "id": "fQijyLc4znuh",
        "outputId": "85536a99-1765-46f9-ddb0-90d38dcbcd8f"
      },
      "source": [
        "#Print Function\n",
        "\n",
        "n = int(input())\n",
        "if n >= 1 and n <=150:\n",
        "  print(*range(1, n+1), sep='')\n",
        "else:\n",
        "  print(\" \")"
      ],
      "execution_count": null,
      "outputs": [
        {
          "output_type": "stream",
          "text": [
            "9\n",
            "123456789\n"
          ],
          "name": "stdout"
        }
      ]
    }
  ]
}